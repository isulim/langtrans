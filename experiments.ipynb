{
 "cells": [
  {
   "metadata": {},
   "cell_type": "markdown",
   "source": "# Experiments with libraries",
   "id": "7723073d9380165e"
  },
  {
   "metadata": {},
   "cell_type": "markdown",
   "source": "## 1. Language detection",
   "id": "19723c503172873a"
  },
  {
   "metadata": {
    "ExecuteTime": {
     "end_time": "2024-08-26T19:56:46.980944Z",
     "start_time": "2024-08-26T19:56:46.977961Z"
    }
   },
   "cell_type": "code",
   "source": "LANGUAGES = [\"de\", \"en\", \"el\", \"es\", \"fr\", \"it\", \"pl\", \"pt\", \"ro\", \"nl\"]",
   "id": "initial_id",
   "outputs": [],
   "execution_count": 1
  },
  {
   "metadata": {
    "ExecuteTime": {
     "end_time": "2024-08-26T19:56:47.038158Z",
     "start_time": "2024-08-26T19:56:47.003424Z"
    }
   },
   "cell_type": "code",
   "source": "import py3langid as langid",
   "id": "d7ccdaeba2bba742",
   "outputs": [],
   "execution_count": 2
  },
  {
   "metadata": {
    "ExecuteTime": {
     "end_time": "2024-08-26T19:56:47.090479Z",
     "start_time": "2024-08-26T19:56:47.039430Z"
    }
   },
   "cell_type": "code",
   "source": [
    "text = \"This is a test\"\n",
    "langid.classify(text)"
   ],
   "id": "5f961ed7c01c5268",
   "outputs": [
    {
     "data": {
      "text/plain": [
       "('en', np.float32(-54.413105))"
      ]
     },
     "execution_count": 3,
     "metadata": {},
     "output_type": "execute_result"
    }
   ],
   "execution_count": 3
  },
  {
   "metadata": {
    "ExecuteTime": {
     "end_time": "2024-08-26T19:56:47.092871Z",
     "start_time": "2024-08-26T19:56:47.091070Z"
    }
   },
   "cell_type": "code",
   "source": "from py3langid.langid import LanguageIdentifier, MODEL_FILE\n",
   "id": "3e024267e3421e56",
   "outputs": [],
   "execution_count": 4
  },
  {
   "metadata": {
    "ExecuteTime": {
     "end_time": "2024-08-26T19:56:47.140855Z",
     "start_time": "2024-08-26T19:56:47.094461Z"
    }
   },
   "cell_type": "code",
   "source": "identifier = LanguageIdentifier.from_pickled_model(MODEL_FILE, norm_probs=True)",
   "id": "c4be9c4bfd5264e6",
   "outputs": [],
   "execution_count": 5
  },
  {
   "metadata": {
    "ExecuteTime": {
     "end_time": "2024-08-26T19:56:47.143683Z",
     "start_time": "2024-08-26T19:56:47.141620Z"
    }
   },
   "cell_type": "code",
   "source": "identifier.set_languages(LANGUAGES)",
   "id": "4fd8b4f15a8e9858",
   "outputs": [],
   "execution_count": 6
  },
  {
   "metadata": {
    "ExecuteTime": {
     "end_time": "2024-08-26T19:56:47.146842Z",
     "start_time": "2024-08-26T19:56:47.144416Z"
    }
   },
   "cell_type": "code",
   "source": "identifier.classify(\"This is a test\")",
   "id": "170f2e0fc92453f7",
   "outputs": [
    {
     "data": {
      "text/plain": [
       "('en', np.float32(1.0))"
      ]
     },
     "execution_count": 7,
     "metadata": {},
     "output_type": "execute_result"
    }
   ],
   "execution_count": 7
  },
  {
   "metadata": {
    "ExecuteTime": {
     "end_time": "2024-08-26T19:56:47.149937Z",
     "start_time": "2024-08-26T19:56:47.147772Z"
    }
   },
   "cell_type": "code",
   "source": "identifier.classify(\"Das ist ein Test\")",
   "id": "5d04404571341351",
   "outputs": [
    {
     "data": {
      "text/plain": [
       "('de', np.float32(1.0))"
      ]
     },
     "execution_count": 8,
     "metadata": {},
     "output_type": "execute_result"
    }
   ],
   "execution_count": 8
  },
  {
   "metadata": {
    "ExecuteTime": {
     "end_time": "2024-08-26T19:56:47.152637Z",
     "start_time": "2024-08-26T19:56:47.150611Z"
    }
   },
   "cell_type": "code",
   "source": "identifier.classify(\"Esto es una prueba\")",
   "id": "4a2911a7be27203c",
   "outputs": [
    {
     "data": {
      "text/plain": [
       "('es', np.float32(1.0))"
      ]
     },
     "execution_count": 9,
     "metadata": {},
     "output_type": "execute_result"
    }
   ],
   "execution_count": 9
  },
  {
   "metadata": {
    "ExecuteTime": {
     "end_time": "2024-08-26T19:56:47.155898Z",
     "start_time": "2024-08-26T19:56:47.153510Z"
    }
   },
   "cell_type": "code",
   "source": "identifier.classify(\"Il s'agit d'un test\")",
   "id": "ffe548c67edac07e",
   "outputs": [
    {
     "data": {
      "text/plain": [
       "('fr', np.float32(0.9990453))"
      ]
     },
     "execution_count": 10,
     "metadata": {},
     "output_type": "execute_result"
    }
   ],
   "execution_count": 10
  },
  {
   "metadata": {
    "ExecuteTime": {
     "end_time": "2024-08-26T19:56:47.159950Z",
     "start_time": "2024-08-26T19:56:47.157744Z"
    }
   },
   "cell_type": "code",
   "source": "identifier.classify(\"Dit is een test\")",
   "id": "57f1046be5ce46d4",
   "outputs": [
    {
     "data": {
      "text/plain": [
       "('nl', np.float32(0.9885795))"
      ]
     },
     "execution_count": 11,
     "metadata": {},
     "output_type": "execute_result"
    }
   ],
   "execution_count": 11
  },
  {
   "metadata": {
    "ExecuteTime": {
     "end_time": "2024-08-26T19:56:47.163162Z",
     "start_time": "2024-08-26T19:56:47.160711Z"
    }
   },
   "cell_type": "code",
   "source": "identifier.classify(\"Questo è un test\")",
   "id": "b49ce218c87c1c",
   "outputs": [
    {
     "data": {
      "text/plain": [
       "('it', np.float32(1.0))"
      ]
     },
     "execution_count": 12,
     "metadata": {},
     "output_type": "execute_result"
    }
   ],
   "execution_count": 12
  },
  {
   "metadata": {
    "ExecuteTime": {
     "end_time": "2024-08-26T19:56:47.166307Z",
     "start_time": "2024-08-26T19:56:47.163762Z"
    }
   },
   "cell_type": "code",
   "source": "identifier.classify(\"To jest test\")",
   "id": "e63be9a6b145bed3",
   "outputs": [
    {
     "data": {
      "text/plain": [
       "('pl', np.float32(0.99995136))"
      ]
     },
     "execution_count": 13,
     "metadata": {},
     "output_type": "execute_result"
    }
   ],
   "execution_count": 13
  },
  {
   "metadata": {
    "ExecuteTime": {
     "end_time": "2024-08-26T19:56:47.169196Z",
     "start_time": "2024-08-26T19:56:47.166943Z"
    }
   },
   "cell_type": "code",
   "source": "identifier.classify(\"Aceasta este o testare\")",
   "id": "10d1a8a1bdb26088",
   "outputs": [
    {
     "data": {
      "text/plain": [
       "('ro', np.float32(0.9973043))"
      ]
     },
     "execution_count": 14,
     "metadata": {},
     "output_type": "execute_result"
    }
   ],
   "execution_count": 14
  },
  {
   "metadata": {
    "ExecuteTime": {
     "end_time": "2024-08-26T19:56:47.173007Z",
     "start_time": "2024-08-26T19:56:47.170145Z"
    }
   },
   "cell_type": "code",
   "source": "identifier.classify(\"Αυτό είναι ένα τεστ\")",
   "id": "63096c93dea8a333",
   "outputs": [
    {
     "data": {
      "text/plain": [
       "('el', np.float32(1.0))"
      ]
     },
     "execution_count": 15,
     "metadata": {},
     "output_type": "execute_result"
    }
   ],
   "execution_count": 15
  },
  {
   "metadata": {},
   "cell_type": "markdown",
   "source": "## 2. Text translation",
   "id": "78a5d90dc5e5c0e"
  },
  {
   "metadata": {
    "ExecuteTime": {
     "end_time": "2024-08-26T19:56:47.175552Z",
     "start_time": "2024-08-26T19:56:47.173824Z"
    }
   },
   "cell_type": "code",
   "source": [
    "MODEL_NAME = \"facebook/m2m100_418M\"\n",
    "FILENAME = \"m2m100_418M\""
   ],
   "id": "16d02185be67cf87",
   "outputs": [],
   "execution_count": 16
  },
  {
   "metadata": {
    "ExecuteTime": {
     "end_time": "2024-08-26T19:56:47.177650Z",
     "start_time": "2024-08-26T19:56:47.176145Z"
    }
   },
   "cell_type": "code",
   "source": "from pathlib import Path",
   "id": "3f8380b58e75d516",
   "outputs": [],
   "execution_count": 17
  },
  {
   "metadata": {
    "ExecuteTime": {
     "end_time": "2024-08-26T19:56:54.578342Z",
     "start_time": "2024-08-26T19:56:47.178303Z"
    }
   },
   "cell_type": "code",
   "source": [
    "from transformers import M2M100ForConditionalGeneration, M2M100Tokenizer\n",
    "tokenizer = M2M100Tokenizer.from_pretrained(MODEL_NAME)\n",
    "model = M2M100ForConditionalGeneration.from_pretrained(MODEL_NAME)\n",
    "local_model_path = Path(f\"models/{FILENAME}\")\n",
    "model.save_pretrained(local_model_path)\n"
   ],
   "id": "fd711effa6369ffd",
   "outputs": [
    {
     "name": "stderr",
     "output_type": "stream",
     "text": [
      "/Users/isulim/PycharmProjects/ai-python-engineer-challenge-igor-sulim/.venv/lib/python3.12/site-packages/transformers/tokenization_utils_base.py:1601: FutureWarning: `clean_up_tokenization_spaces` was not set. It will be set to `True` by default. This behavior will be depracted in transformers v4.45, and will be then set to `False` by default. For more details check this issue: https://github.com/huggingface/transformers/issues/31884\n",
      "  warnings.warn(\n",
      "Some non-default generation parameters are set in the model config. These should go into a GenerationConfig file (https://huggingface.co/docs/transformers/generation_strategies#save-a-custom-decoding-strategy-with-your-model) instead. This warning will be raised to an exception in v4.41.\n",
      "Non-default generation parameters: {'max_length': 200, 'early_stopping': True, 'num_beams': 5}\n"
     ]
    }
   ],
   "execution_count": 18
  },
  {
   "metadata": {
    "ExecuteTime": {
     "end_time": "2024-08-26T19:57:57.485779Z",
     "start_time": "2024-08-26T19:57:57.483556Z"
    }
   },
   "cell_type": "code",
   "source": [
    "tokenizer.src_lang = \"en\"\n",
    "inputs = tokenizer(\"Hello, my dog is cute\", return_tensors=\"pt\").input_ids"
   ],
   "id": "525edbda7d740afa",
   "outputs": [],
   "execution_count": 26
  },
  {
   "metadata": {
    "ExecuteTime": {
     "end_time": "2024-08-26T19:58:00.684128Z",
     "start_time": "2024-08-26T19:57:58.601301Z"
    }
   },
   "cell_type": "code",
   "source": [
    "outputs = model.generate(inputs, forced_bos_token_id=tokenizer.lang_code_to_id[\"el\"])\n",
    "tokenizer.decode(outputs[0], skip_special_tokens=True)"
   ],
   "id": "10658d96aa2c201e",
   "outputs": [
    {
     "data": {
      "text/plain": [
       "'Καλημέρα, ο σκύλος μου είναι ωραίος'"
      ]
     },
     "execution_count": 27,
     "metadata": {},
     "output_type": "execute_result"
    }
   ],
   "execution_count": 27
  },
  {
   "metadata": {
    "ExecuteTime": {
     "end_time": "2024-08-26T19:58:14.849886Z",
     "start_time": "2024-08-26T19:58:13.409406Z"
    }
   },
   "cell_type": "code",
   "source": [
    "outputs = model.generate(inputs, forced_bos_token_id=tokenizer.lang_code_to_id[\"pl\"])\n",
    "tokenizer.decode(outputs[0], skip_special_tokens=True)"
   ],
   "id": "56cfff6d430e412",
   "outputs": [
    {
     "data": {
      "text/plain": [
       "'Cześć, mój pies jest miły'"
      ]
     },
     "execution_count": 28,
     "metadata": {},
     "output_type": "execute_result"
    }
   ],
   "execution_count": 28
  },
  {
   "metadata": {
    "ExecuteTime": {
     "end_time": "2024-08-26T19:58:16.338602Z",
     "start_time": "2024-08-26T19:58:14.851376Z"
    }
   },
   "cell_type": "code",
   "source": [
    "outputs = model.generate(inputs, forced_bos_token_id=tokenizer.lang_code_to_id[\"es\"])\n",
    "tokenizer.decode(outputs[0], skip_special_tokens=True)"
   ],
   "id": "9b6690d2b3e5b7da",
   "outputs": [
    {
     "data": {
      "text/plain": [
       "'Hola, mi perro es hermoso'"
      ]
     },
     "execution_count": 29,
     "metadata": {},
     "output_type": "execute_result"
    }
   ],
   "execution_count": 29
  },
  {
   "metadata": {
    "ExecuteTime": {
     "end_time": "2024-08-26T19:58:17.355514Z",
     "start_time": "2024-08-26T19:58:16.339570Z"
    }
   },
   "cell_type": "code",
   "source": [
    "outputs = model.generate(inputs, forced_bos_token_id=tokenizer.lang_code_to_id[\"de\"])\n",
    "tokenizer.decode(outputs[0], skip_special_tokens=True)"
   ],
   "id": "5603764f1a7b8a8e",
   "outputs": [
    {
     "data": {
      "text/plain": [
       "'Hallo, mein Hund ist schön'"
      ]
     },
     "execution_count": 30,
     "metadata": {},
     "output_type": "execute_result"
    }
   ],
   "execution_count": 30
  },
  {
   "metadata": {},
   "cell_type": "code",
   "outputs": [],
   "execution_count": null,
   "source": "",
   "id": "593c23f5fd2868aa"
  }
 ],
 "metadata": {
  "kernelspec": {
   "display_name": "Python 3",
   "language": "python",
   "name": "python3"
  },
  "language_info": {
   "codemirror_mode": {
    "name": "ipython",
    "version": 2
   },
   "file_extension": ".py",
   "mimetype": "text/x-python",
   "name": "python",
   "nbconvert_exporter": "python",
   "pygments_lexer": "ipython2",
   "version": "2.7.6"
  }
 },
 "nbformat": 4,
 "nbformat_minor": 5
}
