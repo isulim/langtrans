{
 "cells": [
  {
   "metadata": {},
   "cell_type": "markdown",
   "source": "# Experiments with libraries",
   "id": "7723073d9380165e"
  },
  {
   "metadata": {},
   "cell_type": "markdown",
   "source": "## 1. Language detection",
   "id": "19723c503172873a"
  },
  {
   "metadata": {
    "ExecuteTime": {
     "end_time": "2024-08-26T18:46:37.191923Z",
     "start_time": "2024-08-26T18:46:37.189554Z"
    }
   },
   "cell_type": "code",
   "source": "LANGUAGES = [\"de\", \"en\", \"el\", \"es\", \"fr\", \"it\", \"pl\", \"pt\", \"ro\", \"nl\"]",
   "id": "initial_id",
   "outputs": [],
   "execution_count": 45
  },
  {
   "metadata": {
    "ExecuteTime": {
     "end_time": "2024-08-26T18:46:37.195892Z",
     "start_time": "2024-08-26T18:46:37.194003Z"
    }
   },
   "cell_type": "code",
   "source": "import py3langid as langid",
   "id": "d7ccdaeba2bba742",
   "outputs": [],
   "execution_count": 46
  },
  {
   "metadata": {
    "ExecuteTime": {
     "end_time": "2024-08-26T18:46:37.219397Z",
     "start_time": "2024-08-26T18:46:37.216614Z"
    }
   },
   "cell_type": "code",
   "source": [
    "text = \"This is a test\"\n",
    "langid.classify(text)"
   ],
   "id": "5f961ed7c01c5268",
   "outputs": [
    {
     "data": {
      "text/plain": [
       "('en', np.float32(-54.413105))"
      ]
     },
     "execution_count": 47,
     "metadata": {},
     "output_type": "execute_result"
    }
   ],
   "execution_count": 47
  },
  {
   "metadata": {
    "ExecuteTime": {
     "end_time": "2024-08-26T18:46:37.229728Z",
     "start_time": "2024-08-26T18:46:37.227880Z"
    }
   },
   "cell_type": "code",
   "source": "from py3langid.langid import LanguageIdentifier, MODEL_FILE\n",
   "id": "3e024267e3421e56",
   "outputs": [],
   "execution_count": 48
  },
  {
   "metadata": {
    "ExecuteTime": {
     "end_time": "2024-08-26T18:46:37.278699Z",
     "start_time": "2024-08-26T18:46:37.230827Z"
    }
   },
   "cell_type": "code",
   "source": "identifier = LanguageIdentifier.from_pickled_model(MODEL_FILE, norm_probs=True)",
   "id": "c4be9c4bfd5264e6",
   "outputs": [],
   "execution_count": 49
  },
  {
   "metadata": {
    "ExecuteTime": {
     "end_time": "2024-08-26T18:46:37.281631Z",
     "start_time": "2024-08-26T18:46:37.279810Z"
    }
   },
   "cell_type": "code",
   "source": "identifier.set_languages(LANGUAGES)",
   "id": "4fd8b4f15a8e9858",
   "outputs": [],
   "execution_count": 50
  },
  {
   "metadata": {
    "ExecuteTime": {
     "end_time": "2024-08-26T18:46:37.284471Z",
     "start_time": "2024-08-26T18:46:37.282117Z"
    }
   },
   "cell_type": "code",
   "source": "identifier.classify(\"This is a test\")",
   "id": "170f2e0fc92453f7",
   "outputs": [
    {
     "data": {
      "text/plain": [
       "('en', np.float32(1.0))"
      ]
     },
     "execution_count": 51,
     "metadata": {},
     "output_type": "execute_result"
    }
   ],
   "execution_count": 51
  },
  {
   "metadata": {
    "ExecuteTime": {
     "end_time": "2024-08-26T18:46:37.288594Z",
     "start_time": "2024-08-26T18:46:37.286Z"
    }
   },
   "cell_type": "code",
   "source": "identifier.classify(\"Das ist ein Test\")",
   "id": "5d04404571341351",
   "outputs": [
    {
     "data": {
      "text/plain": [
       "('de', np.float32(1.0))"
      ]
     },
     "execution_count": 52,
     "metadata": {},
     "output_type": "execute_result"
    }
   ],
   "execution_count": 52
  },
  {
   "metadata": {
    "ExecuteTime": {
     "end_time": "2024-08-26T18:46:37.291935Z",
     "start_time": "2024-08-26T18:46:37.289394Z"
    }
   },
   "cell_type": "code",
   "source": "identifier.classify(\"Esto es una prueba\")",
   "id": "4a2911a7be27203c",
   "outputs": [
    {
     "data": {
      "text/plain": [
       "('es', np.float32(1.0))"
      ]
     },
     "execution_count": 53,
     "metadata": {},
     "output_type": "execute_result"
    }
   ],
   "execution_count": 53
  },
  {
   "metadata": {
    "ExecuteTime": {
     "end_time": "2024-08-26T18:46:37.294886Z",
     "start_time": "2024-08-26T18:46:37.292696Z"
    }
   },
   "cell_type": "code",
   "source": "identifier.classify(\"Il s'agit d'un test\")",
   "id": "ffe548c67edac07e",
   "outputs": [
    {
     "data": {
      "text/plain": [
       "('fr', np.float32(0.9990453))"
      ]
     },
     "execution_count": 54,
     "metadata": {},
     "output_type": "execute_result"
    }
   ],
   "execution_count": 54
  },
  {
   "metadata": {
    "ExecuteTime": {
     "end_time": "2024-08-26T18:46:37.297966Z",
     "start_time": "2024-08-26T18:46:37.295779Z"
    }
   },
   "cell_type": "code",
   "source": "identifier.classify(\"Dit is een test\")",
   "id": "57f1046be5ce46d4",
   "outputs": [
    {
     "data": {
      "text/plain": [
       "('nl', np.float32(0.9885795))"
      ]
     },
     "execution_count": 55,
     "metadata": {},
     "output_type": "execute_result"
    }
   ],
   "execution_count": 55
  },
  {
   "metadata": {
    "ExecuteTime": {
     "end_time": "2024-08-26T18:46:37.301232Z",
     "start_time": "2024-08-26T18:46:37.298520Z"
    }
   },
   "cell_type": "code",
   "source": "identifier.classify(\"Questo è un test\")",
   "id": "b49ce218c87c1c",
   "outputs": [
    {
     "data": {
      "text/plain": [
       "('it', np.float32(1.0))"
      ]
     },
     "execution_count": 56,
     "metadata": {},
     "output_type": "execute_result"
    }
   ],
   "execution_count": 56
  },
  {
   "metadata": {
    "ExecuteTime": {
     "end_time": "2024-08-26T18:46:37.304231Z",
     "start_time": "2024-08-26T18:46:37.301869Z"
    }
   },
   "cell_type": "code",
   "source": "identifier.classify(\"To jest test\")",
   "id": "e63be9a6b145bed3",
   "outputs": [
    {
     "data": {
      "text/plain": [
       "('pl', np.float32(0.99995136))"
      ]
     },
     "execution_count": 57,
     "metadata": {},
     "output_type": "execute_result"
    }
   ],
   "execution_count": 57
  },
  {
   "metadata": {
    "ExecuteTime": {
     "end_time": "2024-08-26T18:46:37.308628Z",
     "start_time": "2024-08-26T18:46:37.306009Z"
    }
   },
   "cell_type": "code",
   "source": "identifier.classify(\"Aceasta este o testare\")",
   "id": "10d1a8a1bdb26088",
   "outputs": [
    {
     "data": {
      "text/plain": [
       "('ro', np.float32(0.9973043))"
      ]
     },
     "execution_count": 58,
     "metadata": {},
     "output_type": "execute_result"
    }
   ],
   "execution_count": 58
  },
  {
   "metadata": {
    "ExecuteTime": {
     "end_time": "2024-08-26T18:46:37.311659Z",
     "start_time": "2024-08-26T18:46:37.309233Z"
    }
   },
   "cell_type": "code",
   "source": "identifier.classify(\"Αυτό είναι ένα τεστ\")",
   "id": "63096c93dea8a333",
   "outputs": [
    {
     "data": {
      "text/plain": [
       "('el', np.float32(1.0))"
      ]
     },
     "execution_count": 59,
     "metadata": {},
     "output_type": "execute_result"
    }
   ],
   "execution_count": 59
  },
  {
   "metadata": {},
   "cell_type": "markdown",
   "source": "## 2. Text translation",
   "id": "78a5d90dc5e5c0e"
  },
  {
   "metadata": {
    "ExecuteTime": {
     "end_time": "2024-08-26T18:52:22.294886Z",
     "start_time": "2024-08-26T18:52:22.292855Z"
    }
   },
   "cell_type": "code",
   "source": "from transformers import pipeline\n",
   "id": "fd711effa6369ffd",
   "outputs": [],
   "execution_count": 61
  },
  {
   "metadata": {},
   "cell_type": "code",
   "outputs": [],
   "execution_count": null,
   "source": "",
   "id": "68ef33d75d021d11"
  }
 ],
 "metadata": {
  "kernelspec": {
   "display_name": "Python 3",
   "language": "python",
   "name": "python3"
  },
  "language_info": {
   "codemirror_mode": {
    "name": "ipython",
    "version": 2
   },
   "file_extension": ".py",
   "mimetype": "text/x-python",
   "name": "python",
   "nbconvert_exporter": "python",
   "pygments_lexer": "ipython2",
   "version": "2.7.6"
  }
 },
 "nbformat": 4,
 "nbformat_minor": 5
}
